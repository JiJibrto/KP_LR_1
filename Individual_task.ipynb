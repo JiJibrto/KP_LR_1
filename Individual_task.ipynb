{
 "cells": [
  {
   "cell_type": "markdown",
   "metadata": {},
   "source": [
    "<h1 style=\"background-color: black; color: white\"><b>Индивидуальное задание</b></h1>\n",
    "    <p>Снаряд массой 4 кг, летящий со скоростью 400 м/с, разрывается на две равные части, одна из которых летит в направлении движения снаряда, а другая — в противоположную сторону. В момент разрыва суммарная кинетическая энергия осколков увеличилась на величину E = 0,5 МДж. Определите скорость осколка, летящего по направлению движения снаряда.</p>"
   ]
  },
  {
   "cell_type": "markdown",
   "metadata": {},
   "source": [
    "<h2>Решение задачи</h2>\n",
    "    <p>Введем обозначения: 2<i>m</i> — масса снаряда до взрыва; v<sub>0</sub> — модуль скорости снаряда до взрыва; v<sub>1</sub> — модуль скорости осколка, летящего вперёд; v<sub>2</sub> — модуль скорости осколка, летящего назад.</p>\n",
    "    <p>Система уравнений для решения задачи: </p>\n",
    "    <img src='main_image_form.svg' align='center'>\n",
    "    <p>Выразим v<sub>2</sub> из первого уравнения: v<sub>2</sub> = v<sub>1</sub> - 2v<sub>0</sub> и подставим во второе уравнение. Получим:</p>\n",
    "    <img src='sec_image_form.svg' align='center'>\n",
    "    <p>Отсюда следует:</p>\n",
    "    <img src='thr_image_form.svg' align='center'>\n",
    "    <p>Скорость осколка:</p>\n",
    "    <img src='four_image_form.svg' align='center'>\n",
    "    <p>Напишем программу решающую данное уравнение: </p>"
   ]
  },
  {
   "cell_type": "code",
   "execution_count": 7,
   "metadata": {},
   "outputs": [
    {
     "name": "stdout",
     "output_type": "stream",
     "text": [
      "400.5\n"
     ]
    }
   ],
   "source": [
    "import math\n",
    "\n",
    "# Масса снаряда до взрыва = 2 * m = 4кг\n",
    "mass = 4 / 2\n",
    "speed = 400\n",
    "ener = 0.5\n",
    "answ = speed + math.sqrt(ener / mass)\n",
    "print(answ)"
   ]
  }
 ],
 "metadata": {
  "kernelspec": {
   "display_name": "Python 3",
   "language": "python",
   "name": "python3"
  },
  "language_info": {
   "codemirror_mode": {
    "name": "ipython",
    "version": 3
   },
   "file_extension": ".py",
   "mimetype": "text/x-python",
   "name": "python",
   "nbconvert_exporter": "python",
   "pygments_lexer": "ipython3",
   "version": "3.8.3"
  }
 },
 "nbformat": 4,
 "nbformat_minor": 4
}
